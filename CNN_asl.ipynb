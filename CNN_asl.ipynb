{
  "metadata": {
    "kernelspec": {
      "language": "python",
      "display_name": "Python 3",
      "name": "python3"
    },
    "language_info": {
      "name": "python",
      "version": "3.7.12",
      "mimetype": "text/x-python",
      "codemirror_mode": {
        "name": "ipython",
        "version": 3
      },
      "pygments_lexer": "ipython3",
      "nbconvert_exporter": "python",
      "file_extension": ".py"
    },
    "colab": {
      "provenance": [],
      "include_colab_link": true
    }
  },
  "nbformat_minor": 0,
  "nbformat": 4,
  "cells": [
    {
      "cell_type": "markdown",
      "metadata": {
        "id": "view-in-github",
        "colab_type": "text"
      },
      "source": [
        "<a href=\"https://colab.research.google.com/github/Naira97/ASL/blob/main/CNN_asl.ipynb\" target=\"_parent\"><img src=\"https://colab.research.google.com/assets/colab-badge.svg\" alt=\"Open In Colab\"/></a>"
      ]
    },
    {
      "cell_type": "markdown",
      "source": [
        "# **Imports**"
      ],
      "metadata": {
        "id": "UpT1ZXK3VaRe"
      }
    },
    {
      "cell_type": "code",
      "source": [
        "import numpy as np\n",
        "import tensorflow as tf\n",
        "import os\n",
        "import matplotlib.pyplot as plt\n",
        "from keras import Sequential\n",
        "from keras import layers\n",
        "from tensorflow.keras.layers import Dense, Flatten\n",
        "from tensorflow.keras.applications import VGG19\n",
        "from tensorflow.keras.models import Model\n",
        "import itertools\n",
        "from sklearn.metrics import confusion_matrix"
      ],
      "metadata": {
        "_uuid": "8f2839f25d086af736a60e9eeb907d3b93b6e0e5",
        "_cell_guid": "b1076dfc-b9ad-4769-8c92-a6c4dae69d19",
        "id": "cwfv5hrSVYyl",
        "execution": {
          "iopub.status.busy": "2022-08-30T21:24:52.690964Z",
          "iopub.execute_input": "2022-08-30T21:24:52.691878Z",
          "iopub.status.idle": "2022-08-30T21:24:59.650818Z",
          "shell.execute_reply.started": "2022-08-30T21:24:52.691750Z",
          "shell.execute_reply": "2022-08-30T21:24:59.649840Z"
        },
        "trusted": true
      },
      "execution_count": null,
      "outputs": []
    },
    {
      "cell_type": "markdown",
      "source": [
        "# **Data Loading & preprocessing**"
      ],
      "metadata": {
        "id": "31h1_IdcVvoK"
      }
    },
    {
      "cell_type": "code",
      "source": [
        "batch_size=32\n",
        "img_height=64\n",
        "img_width=64\n",
        "\n",
        "base_dir = os.path.join(os.getcwd(), \"../input/asl-alphabet/\")\n",
        "train_dir = os.path.join(base_dir, 'asl_alphabet_train/asl_alphabet_train')\n",
        "train_ds = tf.keras.utils.image_dataset_from_directory(\n",
        "    train_dir,\n",
        "    validation_split=0.1,\n",
        "    subset=\"training\",\n",
        "    seed=123,\n",
        "    image_size=(img_height, img_width),\n",
        "    batch_size=batch_size)"
      ],
      "metadata": {
        "id": "kjxPS5MPVYyq",
        "execution": {
          "iopub.status.busy": "2022-08-30T21:24:59.652747Z",
          "iopub.execute_input": "2022-08-30T21:24:59.653733Z",
          "iopub.status.idle": "2022-08-30T21:26:09.870820Z",
          "shell.execute_reply.started": "2022-08-30T21:24:59.653696Z",
          "shell.execute_reply": "2022-08-30T21:26:09.869862Z"
        },
        "trusted": true
      },
      "execution_count": null,
      "outputs": []
    },
    {
      "cell_type": "code",
      "source": [
        "validation_ds = tf.keras.utils.image_dataset_from_directory(\n",
        "    train_dir,\n",
        "    validation_split=0.09,\n",
        "    subset=\"validation\",\n",
        "    seed=123,\n",
        "    image_size=(img_height, img_width),\n",
        "    batch_size=batch_size)\n"
      ],
      "metadata": {
        "id": "9ezpbA75VYys",
        "execution": {
          "iopub.status.busy": "2022-08-30T21:26:09.875217Z",
          "iopub.execute_input": "2022-08-30T21:26:09.876047Z",
          "iopub.status.idle": "2022-08-30T21:26:25.062247Z",
          "shell.execute_reply.started": "2022-08-30T21:26:09.876008Z",
          "shell.execute_reply": "2022-08-30T21:26:25.061196Z"
        },
        "trusted": true
      },
      "execution_count": null,
      "outputs": []
    },
    {
      "cell_type": "code",
      "source": [
        "test_ds = tf.keras.utils.image_dataset_from_directory(\n",
        "    train_dir,\n",
        "    validation_split=0.01,\n",
        "    subset=\"validation\",\n",
        "    seed=123,\n",
        "    image_size=(img_height, img_width),\n",
        "    batch_size=batch_size)"
      ],
      "metadata": {
        "id": "EeHdy2vEVYyt",
        "execution": {
          "iopub.status.busy": "2022-08-30T21:26:25.065452Z",
          "iopub.execute_input": "2022-08-30T21:26:25.065919Z",
          "iopub.status.idle": "2022-08-30T21:26:39.759033Z",
          "shell.execute_reply.started": "2022-08-30T21:26:25.065857Z",
          "shell.execute_reply": "2022-08-30T21:26:39.757960Z"
        },
        "trusted": true
      },
      "execution_count": null,
      "outputs": []
    },
    {
      "cell_type": "code",
      "source": [
        "class_names = train_ds.class_names\n",
        "plt.figure(figsize=(10, 10))\n",
        "for images, labels in train_ds.take(1):\n",
        "    for i in range(len(class_names)):\n",
        "        ax = plt.subplot(6,5 , i + 1)\n",
        "        plt.imshow(images[i].numpy().astype(\"uint8\"))\n",
        "        plt.title(class_names[labels[i]])\n",
        "        plt.axis(\"off\")"
      ],
      "metadata": {
        "id": "vcJdXl2YVYyv",
        "execution": {
          "iopub.status.busy": "2022-08-30T21:26:39.760536Z",
          "iopub.execute_input": "2022-08-30T21:26:39.760875Z",
          "iopub.status.idle": "2022-08-30T21:26:42.037352Z",
          "shell.execute_reply.started": "2022-08-30T21:26:39.760840Z",
          "shell.execute_reply": "2022-08-30T21:26:42.035933Z"
        },
        "trusted": true
      },
      "execution_count": null,
      "outputs": []
    },
    {
      "cell_type": "markdown",
      "source": [
        "# **Model building**"
      ],
      "metadata": {
        "id": "vnnrAWyhV9ki"
      }
    },
    {
      "cell_type": "code",
      "source": [
        "model = Sequential([\n",
        "    layers.Rescaling(1./255),\n",
        "    layers.Conv2D(16, 3, padding='same', activation='relu'),\n",
        "    layers.MaxPooling2D(),\n",
        "\n",
        "    layers.Conv2D(32, 3, padding='same', activation='relu'),\n",
        "    layers.MaxPooling2D(),\n",
        "    layers.Dropout(0.25),\n",
        "\n",
        "    layers.Conv2D(64, 3, padding='same', activation='relu'),\n",
        "    layers.MaxPooling2D(),\n",
        "    layers.Dropout(0.25),\n",
        "    \n",
        "    layers.Conv2D(128, 3, padding='same', activation='relu'),\n",
        "    layers.MaxPooling2D(),\n",
        "    layers.Dropout(0.25),\n",
        "\n",
        "    layers.Flatten(),\n",
        "    layers.Dense(256, activation='relu'),\n",
        "    layers.Dense(len(class_names), activation='softmax')\n",
        "])"
      ],
      "metadata": {
        "id": "ozEmFwIfVYyw",
        "execution": {
          "iopub.status.busy": "2022-08-30T21:29:44.401029Z",
          "iopub.execute_input": "2022-08-30T21:29:44.401631Z",
          "iopub.status.idle": "2022-08-30T21:29:44.428351Z",
          "shell.execute_reply.started": "2022-08-30T21:29:44.401583Z",
          "shell.execute_reply": "2022-08-30T21:29:44.427245Z"
        },
        "trusted": true
      },
      "execution_count": null,
      "outputs": []
    },
    {
      "cell_type": "code",
      "source": [
        "model.compile(loss='sparse_categorical_crossentropy',optimizer='adam',metrics=['accuracy'])"
      ],
      "metadata": {
        "id": "ypi4UzJmVYy0",
        "execution": {
          "iopub.status.busy": "2022-08-30T21:29:46.275352Z",
          "iopub.execute_input": "2022-08-30T21:29:46.275716Z",
          "iopub.status.idle": "2022-08-30T21:29:46.285941Z",
          "shell.execute_reply.started": "2022-08-30T21:29:46.275686Z",
          "shell.execute_reply": "2022-08-30T21:29:46.284926Z"
        },
        "trusted": true
      },
      "execution_count": null,
      "outputs": []
    },
    {
      "cell_type": "markdown",
      "source": [
        "# **Training**"
      ],
      "metadata": {
        "id": "DIzm9KRxWEzB"
      }
    },
    {
      "cell_type": "code",
      "source": [
        "history = model.fit(train_ds,\n",
        "                           batch_size=32,\n",
        "                           validation_batch_size=32,\n",
        "                           validation_data=validation_ds,\n",
        "                           epochs=10)"
      ],
      "metadata": {
        "id": "_d8GjN_aVYy2",
        "execution": {
          "iopub.status.busy": "2022-08-30T21:30:13.783784Z",
          "iopub.execute_input": "2022-08-30T21:30:13.784516Z",
          "iopub.status.idle": "2022-08-30T21:44:42.714487Z",
          "shell.execute_reply.started": "2022-08-30T21:30:13.784482Z",
          "shell.execute_reply": "2022-08-30T21:44:42.713510Z"
        },
        "trusted": true
      },
      "execution_count": null,
      "outputs": []
    },
    {
      "cell_type": "code",
      "source": [
        "model.summary()"
      ],
      "metadata": {
        "id": "ONSGK6FvVYyx",
        "execution": {
          "iopub.status.busy": "2022-08-30T21:44:42.716731Z",
          "iopub.execute_input": "2022-08-30T21:44:42.717124Z",
          "iopub.status.idle": "2022-08-30T21:44:42.725013Z",
          "shell.execute_reply.started": "2022-08-30T21:44:42.717085Z",
          "shell.execute_reply": "2022-08-30T21:44:42.723875Z"
        },
        "trusted": true
      },
      "execution_count": null,
      "outputs": []
    },
    {
      "cell_type": "code",
      "source": [
        "score = model.evaluate(validation_ds)"
      ],
      "metadata": {
        "id": "wvSYlR6GW5bz",
        "execution": {
          "iopub.status.busy": "2022-08-30T21:44:42.726611Z",
          "iopub.execute_input": "2022-08-30T21:44:42.727273Z",
          "iopub.status.idle": "2022-08-30T21:44:47.655924Z",
          "shell.execute_reply.started": "2022-08-30T21:44:42.727237Z",
          "shell.execute_reply": "2022-08-30T21:44:47.655005Z"
        },
        "trusted": true
      },
      "execution_count": null,
      "outputs": []
    },
    {
      "cell_type": "markdown",
      "source": [
        "# **Testing**"
      ],
      "metadata": {
        "id": "-TOf70M3WKz0"
      }
    },
    {
      "cell_type": "code",
      "source": [
        "y_pred=model.predict(test_ds)\n",
        "y_pred.shape"
      ],
      "metadata": {
        "id": "qLTScKLlWOyk",
        "execution": {
          "iopub.status.busy": "2022-08-30T21:44:47.658136Z",
          "iopub.execute_input": "2022-08-30T21:44:47.659231Z",
          "iopub.status.idle": "2022-08-30T21:44:48.300376Z",
          "shell.execute_reply.started": "2022-08-30T21:44:47.659192Z",
          "shell.execute_reply": "2022-08-30T21:44:48.299400Z"
        },
        "trusted": true
      },
      "execution_count": null,
      "outputs": []
    },
    {
      "cell_type": "code",
      "source": [
        "actual = []\n",
        "pred = []\n",
        "for images, labels in test_ds:\n",
        "    for i in range(0, len(images)):\n",
        "        image = images[i]\n",
        "        image = np.expand_dims(image, axis=0)\n",
        "        result = model.predict(image)\n",
        "        pred.append(class_names[np.argmax(result)])\n",
        "        actual.append(class_names[labels[i].numpy()])"
      ],
      "metadata": {
        "execution": {
          "iopub.status.busy": "2022-08-30T21:44:48.302906Z",
          "iopub.execute_input": "2022-08-30T21:44:48.303365Z",
          "iopub.status.idle": "2022-08-30T21:45:19.145078Z",
          "shell.execute_reply.started": "2022-08-30T21:44:48.303327Z",
          "shell.execute_reply": "2022-08-30T21:45:19.144078Z"
        },
        "trusted": true,
        "id": "aOLhMu46srjK"
      },
      "execution_count": null,
      "outputs": []
    },
    {
      "cell_type": "code",
      "source": [
        "\n",
        "def plot_confusion_matrix(cm, classes,\n",
        "                          normalize=False,\n",
        "                          title='Confusion matrix',\n",
        "                          cmap=plt.cm.Blues):\n",
        "    \n",
        "    plt.figure(figsize=(15, 15))\n",
        "    plt.imshow(cm, interpolation='nearest', cmap=cmap)\n",
        "    plt.title(title)\n",
        "    plt.colorbar()\n",
        "    tick_marks = np.arange(len(classes))\n",
        "    plt.xticks(tick_marks, classes, rotation=45)\n",
        "    plt.yticks(tick_marks, classes)\n",
        "\n",
        "    if normalize:\n",
        "        cm = cm.astype('float') / cm.sum(axis=1)[:, np.newaxis]\n",
        "        print(\"Normalized confusion matrix\")\n",
        "    else:\n",
        "        print('Confusion matrix, without normalization')\n",
        "\n",
        "    thresh = cm.max() / 2.\n",
        "    for i, j in itertools.product(range(cm.shape[0]), range(cm.shape[1])):\n",
        "        plt.text(j, i, cm[i, j],\n",
        "                 horizontalalignment=\"center\",\n",
        "                 color=\"white\" if cm[i, j] > thresh else \"black\")\n",
        "\n",
        "    plt.tight_layout()\n",
        "    plt.ylabel('True label')\n",
        "    plt.xlabel('Predicted label')"
      ],
      "metadata": {
        "execution": {
          "iopub.status.busy": "2022-08-30T21:45:19.147444Z",
          "iopub.execute_input": "2022-08-30T21:45:19.147813Z",
          "iopub.status.idle": "2022-08-30T21:45:19.156991Z",
          "shell.execute_reply.started": "2022-08-30T21:45:19.147764Z",
          "shell.execute_reply": "2022-08-30T21:45:19.156062Z"
        },
        "trusted": true,
        "id": "K6KRYqPHsrjK"
      },
      "execution_count": null,
      "outputs": []
    },
    {
      "cell_type": "code",
      "source": [
        "cm = confusion_matrix(y_true=actual, y_pred=pred)\n",
        "plot_confusion_matrix(cm=cm, classes=class_names, title='Confusion Matrix')"
      ],
      "metadata": {
        "execution": {
          "iopub.status.busy": "2022-08-30T21:45:19.158546Z",
          "iopub.execute_input": "2022-08-30T21:45:19.159224Z",
          "iopub.status.idle": "2022-08-30T21:45:22.764548Z",
          "shell.execute_reply.started": "2022-08-30T21:45:19.159187Z",
          "shell.execute_reply": "2022-08-30T21:45:22.763640Z"
        },
        "trusted": true,
        "id": "PPvydRV0srjK"
      },
      "execution_count": null,
      "outputs": []
    },
    {
      "cell_type": "code",
      "source": [
        "count=0\n",
        "for i in range(len(actual)):\n",
        "    if actual[i]==pred[i]:\n",
        "        count+=1\n",
        "\n",
        "print(\"Accuracy on test data is: \",(count/len(actual))*100)"
      ],
      "metadata": {
        "execution": {
          "iopub.status.busy": "2022-08-30T21:45:22.766053Z",
          "iopub.execute_input": "2022-08-30T21:45:22.766667Z",
          "iopub.status.idle": "2022-08-30T21:45:22.773877Z",
          "shell.execute_reply.started": "2022-08-30T21:45:22.766627Z",
          "shell.execute_reply": "2022-08-30T21:45:22.772754Z"
        },
        "trusted": true,
        "id": "89Hr9s4esrjK"
      },
      "execution_count": null,
      "outputs": []
    },
    {
      "cell_type": "markdown",
      "source": [
        "# **Plotting acc & loss**"
      ],
      "metadata": {
        "id": "WGPO8DrMWP1B"
      }
    },
    {
      "cell_type": "code",
      "source": [
        "acc = history.history['accuracy']\n",
        "val_acc = history.history['val_accuracy']\n",
        "loss = history.history['loss']\n",
        "val_loss = history.history['val_loss']\n",
        "\n",
        "epochs = range(len(acc))\n",
        "\n",
        "plt.plot(epochs, acc, 'r', label='Training accuracy')\n",
        "plt.plot(epochs, val_acc, 'b', label='Validation accuracy')\n",
        "plt.title('Training and validation accuracy')\n",
        "plt.legend()\n",
        "plt.figure()\n",
        "\n",
        "plt.plot(epochs, loss, 'r', label='Training Loss')\n",
        "plt.plot(epochs, val_loss, 'b', label='Validation Loss')\n",
        "plt.title('Training and validation loss')\n",
        "plt.legend()\n",
        "\n",
        "plt.show()"
      ],
      "metadata": {
        "id": "-A_xb7FwVYy3",
        "execution": {
          "iopub.status.busy": "2022-08-30T21:45:22.775276Z",
          "iopub.execute_input": "2022-08-30T21:45:22.776335Z",
          "iopub.status.idle": "2022-08-30T21:45:23.147879Z",
          "shell.execute_reply.started": "2022-08-30T21:45:22.776249Z",
          "shell.execute_reply": "2022-08-30T21:45:23.146821Z"
        },
        "trusted": true
      },
      "execution_count": null,
      "outputs": []
    }
  ]
}